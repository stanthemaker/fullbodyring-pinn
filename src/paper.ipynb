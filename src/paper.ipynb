{
 "cells": [
  {
   "cell_type": "code",
   "execution_count": null,
   "metadata": {},
   "outputs": [],
   "source": [
    "fig_dir = './fig_loop_NTK'\n",
    "save_checkpoints_dir = './save_loop_NTK'\n",
    "kernel_size = 200\n",
    "wavefields_path = 'wavefields'\n",
    "\n",
    "xz_scl = 600\n",
    "# PINN的x,z范围\n",
    "xmin_spec = 0\n",
    "xmax_spec = 1500 / xz_scl\n",
    "zmin_spec = 0\n",
    "zmax_spec = 1500 / xz_scl\n",
    "\n",
    "n_abs = 3\n",
    "nx = 100\n",
    "dx = xmax_spec / nx\n",
    "dz = zmax_spec / nx\n",
    "\n",
    "xmin = xmin_spec + dx * n_abs\n",
    "xmax = xmax_spec - dx * n_abs\n",
    "zmin = zmin_spec + dz * n_abs\n",
    "zmax = zmax_spec - dz * n_abs\n",
    "\n",
    "s_spec = 1e-4  # specfem time stepsize\n",
    "t01 = 4500 * s_spec  # initial disp. input at this time from spec\n",
    "t02 = 5000 * s_spec  # sec \"initial\" disp. input at this time from spec instead of enforcing initial velocity\n",
    "t03 = 9000 * s_spec  # test data for comparing specfem and trained PINNs\n",
    "t04 = 13000 * s_spec  # test data for comparing specfem and trained PINNs\n",
    "\n",
    "t_m = t04  # total time for PDE training.\n",
    "t_st = t01  # this is when we take the first I.C from specfem\n",
    "\n",
    "###initial conditions for all events\n",
    "X_spec = np.loadtxt(wavefields_path + '/wavefield_grid_for_dumps.txt')\n",
    "\n",
    "X_spec = X_spec / xz_scl  # specfem works with meters unit so we need to convert them to Km\n",
    "X_spec[:, 0:1] = X_spec[:, 0:1]  # scaling the spatial domain\n",
    "X_spec[:, 1:2] = X_spec[:, 1:2]  # scaling the spatial domain\n",
    "xz_spec = np.concatenate((X_spec[:, 0:1], X_spec[:, 1:2]), axis=1)\n",
    "\n",
    "# uploading the wavefields from specfem\n",
    "wave_filed_dir_list = sorted(os.listdir(wavefields_path))\n",
    "U0 = [np.loadtxt(wavefields_path + '/' + f) for f in wave_filed_dir_list]"
   ]
  }
 ],
 "metadata": {
  "language_info": {
   "name": "python"
  }
 },
 "nbformat": 4,
 "nbformat_minor": 2
}
